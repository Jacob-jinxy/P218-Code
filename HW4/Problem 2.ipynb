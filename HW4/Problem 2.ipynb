{
 "cells": [
  {
   "cell_type": "code",
   "execution_count": 32,
   "id": "d6e3de6e-28e5-40b1-b92c-6d28dc388a4a",
   "metadata": {},
   "outputs": [],
   "source": [
    "import pandas as pd\n",
    "import statsmodels.api as sm\n",
    "\n",
    "from scipy.stats import norm\n",
    "from statsmodels.sandbox.regression.gmm import GMM\n",
    "\n",
    "\n",
    "import numpy as np"
   ]
  },
  {
   "cell_type": "code",
   "execution_count": 34,
   "id": "38f521ff-9733-449a-a708-7e557de3a89f",
   "metadata": {},
   "outputs": [],
   "source": [
    "data = pd.read_excel('ccapm.xlsx', header=None)\n",
    "data.columns = ['cratio', 'rrate', 'e']\n",
    "\n",
    "data['cratio1'] = data['cratio'].shift(1)\n",
    "data['rrate1'] = data['rrate'].shift(1)\n",
    "data['e1'] = data['e'].shift(1)\n",
    "data = data.dropna()\n",
    "data['constant'] = 1\n"
   ]
  },
  {
   "cell_type": "code",
   "execution_count": 74,
   "id": "29ffcffd-cef8-44b7-a4d4-64a846e08efe",
   "metadata": {},
   "outputs": [],
   "source": [
    "endo_var = data[['cratio', 'rrate']].values \n",
    "inst_var = data[['constant', 'cratio1', 'rrate1', 'e1']].values \n"
   ]
  },
  {
   "cell_type": "markdown",
   "id": "fe346954-c27a-494c-be25-08443d701a45",
   "metadata": {},
   "source": [
    "### Problem (a)"
   ]
  },
  {
   "cell_type": "code",
   "execution_count": 80,
   "id": "4846dd40-b4fe-4146-978e-78b5701871e0",
   "metadata": {},
   "outputs": [
    {
     "name": "stdout",
     "output_type": "stream",
     "text": [
      "Optimization terminated successfully.\n",
      "         Current function value: 0.000000\n",
      "         Iterations: 1\n",
      "         Function evaluations: 3\n",
      "         Gradient evaluations: 3\n",
      "Optimization terminated successfully.\n",
      "         Current function value: 0.005432\n",
      "         Iterations: 5\n",
      "         Function evaluations: 10\n",
      "         Gradient evaluations: 10\n",
      "Optimization terminated successfully.\n",
      "         Current function value: 0.005188\n",
      "         Iterations: 4\n",
      "         Function evaluations: 9\n",
      "         Gradient evaluations: 9\n",
      "Optimization terminated successfully.\n",
      "         Current function value: 0.005197\n",
      "         Iterations: 1\n",
      "         Function evaluations: 3\n",
      "         Gradient evaluations: 3\n",
      "Optimization terminated successfully.\n",
      "         Current function value: 0.005196\n",
      "         Iterations: 1\n",
      "         Function evaluations: 3\n",
      "         Gradient evaluations: 3\n",
      "                                CCAPM Results                                 \n",
      "==============================================================================\n",
      "Dep. Variable:           ['y1', 'y2']   Hansen J:                        1.231\n",
      "Model:                          CCAPM   Prob (Hansen J):                 0.540\n",
      "Method:                           GMM                                         \n",
      "Date:                Thu, 05 Dec 2024                                         \n",
      "Time:                        12:17:11                                         \n",
      "No. Observations:                 237                                         \n",
      "==============================================================================\n",
      "                 coef    std err          z      P>|z|      [0.025      0.975]\n",
      "------------------------------------------------------------------------------\n",
      "x1             0.9978      0.004    230.494      0.000       0.989       1.006\n",
      "x2             0.7723      1.770      0.436      0.663      -2.698       4.242\n",
      "==============================================================================\n"
     ]
    }
   ],
   "source": [
    "class CCAPM(GMM):\n",
    "    def __init__(self, *args, **kwargs):\n",
    "        super().__init__(*args, **kwargs)\n",
    "        self.param_names = [\"b\", \"r\"]  \n",
    "        \n",
    "    def momcond(self, params):\n",
    "        b, r = params\n",
    "        cratio = self.endog[:, 0]\n",
    "        rrate = self.endog[:, 1]\n",
    "        constant = self.instrument[:, 0]\n",
    "        cratio1 = self.instrument[:, 1]\n",
    "        rrate1 = self.instrument[:, 2]\n",
    "        e1 = self.instrument[:, 3]\n",
    "        endo_equ = b * (cratio ** -r) * rrate - 1\n",
    "        moment  = np.column_stack((\n",
    "            endo_equ * constant,\n",
    "            endo_equ * cratio1,\n",
    "            endo_equ * rrate1,\n",
    "            endo_equ * e1\n",
    "        ))\n",
    "        return moment\n",
    "        \n",
    "start_params = np.array([1, 1])  \n",
    "\n",
    "\n",
    "CCAPM_model = CCAPM(endog = endo_var, exog = endo_var, instrument = inst_var, k_moms=4, k_params=2)\n",
    "res = CCAPM_model.fit(start_params)\n",
    "\n",
    "\n",
    "print(res.summary())\n"
   ]
  },
  {
   "cell_type": "markdown",
   "id": "cad9ccb7-1b47-4cdf-860b-0eff970896a0",
   "metadata": {},
   "source": [
    "### Problem (b)"
   ]
  },
  {
   "cell_type": "code",
   "execution_count": 72,
   "id": "4f1f1be6-f129-46cd-ba6c-d18e78de06bc",
   "metadata": {},
   "outputs": [
    {
     "name": "stdout",
     "output_type": "stream",
     "text": [
      "Optimization terminated successfully.\n",
      "         Current function value: 0.000000\n",
      "         Iterations: 1\n",
      "         Function evaluations: 3\n",
      "         Gradient evaluations: 3\n",
      "Optimization terminated successfully.\n",
      "         Current function value: 0.008025\n",
      "         Iterations: 5\n",
      "         Function evaluations: 10\n",
      "         Gradient evaluations: 10\n",
      "Optimization terminated successfully.\n",
      "         Current function value: 0.007271\n",
      "         Iterations: 4\n",
      "         Function evaluations: 9\n",
      "         Gradient evaluations: 9\n",
      "Optimization terminated successfully.\n",
      "         Current function value: 0.007278\n",
      "         Iterations: 1\n",
      "         Function evaluations: 3\n",
      "         Gradient evaluations: 3\n",
      "Optimization terminated successfully.\n",
      "         Current function value: 0.007277\n",
      "         Iterations: 1\n",
      "         Function evaluations: 3\n",
      "         Gradient evaluations: 3\n",
      "                                CCAPM Results                                 \n",
      "==============================================================================\n",
      "Dep. Variable:           ['y1', 'y2']   Hansen J:                        1.725\n",
      "Model:                          CCAPM   Prob (Hansen J):                 0.422\n",
      "Method:                           GMM                                         \n",
      "Date:                Thu, 05 Dec 2024                                         \n",
      "Time:                        12:16:05                                         \n",
      "No. Observations:                 237                                         \n",
      "==============================================================================\n",
      "                 coef    std err          z      P>|z|      [0.025      0.975]\n",
      "------------------------------------------------------------------------------\n",
      "x1             0.9979      0.004    226.811      0.000       0.989       1.007\n",
      "x2             0.8413      1.770      0.475      0.634      -2.627       4.310\n",
      "==============================================================================\n"
     ]
    }
   ],
   "source": [
    "res_2 = CCAPM_model.fit(start_params,weights_method='hac', wargs={'maxlag':5})\n",
    "print(res_2.summary())"
   ]
  },
  {
   "cell_type": "code",
   "execution_count": null,
   "id": "83357be8-3996-4b1c-8cf8-5c7986806e51",
   "metadata": {},
   "outputs": [],
   "source": []
  }
 ],
 "metadata": {
  "kernelspec": {
   "display_name": "Python 3 (ipykernel)",
   "language": "python",
   "name": "python3"
  },
  "language_info": {
   "codemirror_mode": {
    "name": "ipython",
    "version": 3
   },
   "file_extension": ".py",
   "mimetype": "text/x-python",
   "name": "python",
   "nbconvert_exporter": "python",
   "pygments_lexer": "ipython3",
   "version": "3.12.4"
  }
 },
 "nbformat": 4,
 "nbformat_minor": 5
}
