{
 "cells": [
  {
   "cell_type": "code",
   "execution_count": 161,
   "id": "198757b4-6a6a-485c-b5b2-e487ccc37961",
   "metadata": {},
   "outputs": [],
   "source": [
    "import pandas as pd\n",
    "import statsmodels.api as sm\n",
    "\n",
    "from scipy.stats import norm\n",
    "from statsmodels.sandbox.regression.gmm import GMM\n",
    "\n",
    "\n",
    "import numpy as np\n",
    "\n",
    "warnings.filterwarnings('ignore')\n"
   ]
  },
  {
   "cell_type": "code",
   "execution_count": 163,
   "id": "b0e78566-4c8d-4dc7-98e5-77598e9b2e7f",
   "metadata": {},
   "outputs": [
    {
     "data": {
      "text/html": [
       "<div>\n",
       "<style scoped>\n",
       "    .dataframe tbody tr th:only-of-type {\n",
       "        vertical-align: middle;\n",
       "    }\n",
       "\n",
       "    .dataframe tbody tr th {\n",
       "        vertical-align: top;\n",
       "    }\n",
       "\n",
       "    .dataframe thead th {\n",
       "        text-align: right;\n",
       "    }\n",
       "</style>\n",
       "<table border=\"1\" class=\"dataframe\">\n",
       "  <thead>\n",
       "    <tr style=\"text-align: right;\">\n",
       "      <th></th>\n",
       "      <th>chain</th>\n",
       "      <th>own</th>\n",
       "      <th>state</th>\n",
       "      <th>empft</th>\n",
       "      <th>emppt</th>\n",
       "      <th>nmgrs</th>\n",
       "      <th>wagest</th>\n",
       "      <th>empft2</th>\n",
       "      <th>emppt2</th>\n",
       "      <th>nmgrs2</th>\n",
       "      <th>wagest2</th>\n",
       "    </tr>\n",
       "  </thead>\n",
       "  <tbody>\n",
       "    <tr>\n",
       "      <th>0</th>\n",
       "      <td>1</td>\n",
       "      <td>0</td>\n",
       "      <td>0</td>\n",
       "      <td>30</td>\n",
       "      <td>15</td>\n",
       "      <td>3</td>\n",
       "      <td>.</td>\n",
       "      <td>3.5</td>\n",
       "      <td>35</td>\n",
       "      <td>3</td>\n",
       "      <td>4.3</td>\n",
       "    </tr>\n",
       "    <tr>\n",
       "      <th>1</th>\n",
       "      <td>2</td>\n",
       "      <td>0</td>\n",
       "      <td>0</td>\n",
       "      <td>6.5</td>\n",
       "      <td>6.5</td>\n",
       "      <td>4</td>\n",
       "      <td>.</td>\n",
       "      <td>0</td>\n",
       "      <td>15</td>\n",
       "      <td>4</td>\n",
       "      <td>4.45</td>\n",
       "    </tr>\n",
       "    <tr>\n",
       "      <th>2</th>\n",
       "      <td>2</td>\n",
       "      <td>1</td>\n",
       "      <td>0</td>\n",
       "      <td>3</td>\n",
       "      <td>7</td>\n",
       "      <td>2</td>\n",
       "      <td>.</td>\n",
       "      <td>3</td>\n",
       "      <td>7</td>\n",
       "      <td>4</td>\n",
       "      <td>5</td>\n",
       "    </tr>\n",
       "    <tr>\n",
       "      <th>3</th>\n",
       "      <td>4</td>\n",
       "      <td>1</td>\n",
       "      <td>0</td>\n",
       "      <td>20</td>\n",
       "      <td>20</td>\n",
       "      <td>4</td>\n",
       "      <td>5</td>\n",
       "      <td>0</td>\n",
       "      <td>36</td>\n",
       "      <td>2</td>\n",
       "      <td>5.25</td>\n",
       "    </tr>\n",
       "    <tr>\n",
       "      <th>4</th>\n",
       "      <td>4</td>\n",
       "      <td>1</td>\n",
       "      <td>0</td>\n",
       "      <td>6</td>\n",
       "      <td>26</td>\n",
       "      <td>5</td>\n",
       "      <td>5.5</td>\n",
       "      <td>28</td>\n",
       "      <td>3</td>\n",
       "      <td>6</td>\n",
       "      <td>4.75</td>\n",
       "    </tr>\n",
       "  </tbody>\n",
       "</table>\n",
       "</div>"
      ],
      "text/plain": [
       "   chain  own  state empft emppt nmgrs wagest empft2 emppt2 nmgrs2 wagest2\n",
       "0      1    0      0    30    15     3      .    3.5     35      3     4.3\n",
       "1      2    0      0   6.5   6.5     4      .      0     15      4    4.45\n",
       "2      2    1      0     3     7     2      .      3      7      4       5\n",
       "3      4    1      0    20    20     4      5      0     36      2    5.25\n",
       "4      4    1      0     6    26     5    5.5     28      3      6    4.75"
      ]
     },
     "execution_count": 163,
     "metadata": {},
     "output_type": "execute_result"
    }
   ],
   "source": [
    "data = pd.read_csv(\"minwage.txt\", sep=\"\\t\")\n",
    "data.head()"
   ]
  },
  {
   "cell_type": "code",
   "execution_count": 165,
   "id": "c3d557a6-c4d1-4376-bd29-4c78e0037bf0",
   "metadata": {},
   "outputs": [],
   "source": [
    "data = data.replace('.', np.nan).dropna()\n",
    "columns_to_convert = [\"empft\", \"nmgrs\", \"emppt\", \"empft2\", \"nmgrs2\", \"emppt2\", 'wagest', 'wagest2']\n",
    "\n",
    "for column in columns_to_convert:\n",
    "    data[column] = data[column].astype(float)\n",
    "\n",
    "\n",
    "data[\"fte\"] = data[\"empft\"]+data[\"nmgrs\"]+0.5 * data[\"emppt\"]\n",
    "data[\"fte2\"] = data[\"empft2\"]+ data[\"nmgrs2\"]+0.5*data[\"emppt2\"]"
   ]
  },
  {
   "cell_type": "markdown",
   "id": "4e4afb3a-5301-4ee6-8071-939284963f53",
   "metadata": {},
   "source": [
    "### Problem (a)"
   ]
  },
  {
   "cell_type": "code",
   "execution_count": 167,
   "id": "d96ab250-2a9b-481c-9d2b-d41e0234c624",
   "metadata": {},
   "outputs": [],
   "source": [
    "diff_table = data.groupby(\"state\")[[\"fte\", \"fte2\"]].mean().reset_index()\n",
    "diff_table.columns = [\"state\", \"before\", \"after\"]\n",
    "diff_table = diff_table.sort_values(by=\"state\", ascending=False)\n",
    "diff_table[\"state\"] = diff_table[\"state\"].replace({1: \"NJ\", 0: \"PA\"})\n",
    "diff_table[\"diffs\"] = diff_table[\"after\"] - diff_table[\"before\"]\n",
    "\n",
    "diff_row = {\n",
    "    \"state\": \"diffs\",\n",
    "    \"before\": diff_table.iloc[0][\"before\"] - diff_table.iloc[1][\"before\"],\n",
    "    \"after\": diff_table.iloc[0][\"after\"] - diff_table.iloc[1][\"after\"],\n",
    "    \"diffs\": diff_table.iloc[0][\"diffs\"] - diff_table.iloc[1][\"diffs\"]\n",
    "}\n",
    "\n",
    "diff_table = pd.concat([diff_table, pd.DataFrame([diff_row])], ignore_index=True)\n",
    "\n"
   ]
  },
  {
   "cell_type": "code",
   "execution_count": 169,
   "id": "1dec19fb-d6ad-4749-a7d3-b32f7b5a9757",
   "metadata": {},
   "outputs": [
    {
     "data": {
      "text/html": [
       "<div>\n",
       "<style scoped>\n",
       "    .dataframe tbody tr th:only-of-type {\n",
       "        vertical-align: middle;\n",
       "    }\n",
       "\n",
       "    .dataframe tbody tr th {\n",
       "        vertical-align: top;\n",
       "    }\n",
       "\n",
       "    .dataframe thead th {\n",
       "        text-align: right;\n",
       "    }\n",
       "</style>\n",
       "<table border=\"1\" class=\"dataframe\">\n",
       "  <thead>\n",
       "    <tr style=\"text-align: right;\">\n",
       "      <th></th>\n",
       "      <th>state</th>\n",
       "      <th>before</th>\n",
       "      <th>after</th>\n",
       "      <th>diffs</th>\n",
       "    </tr>\n",
       "  </thead>\n",
       "  <tbody>\n",
       "    <tr>\n",
       "      <th>0</th>\n",
       "      <td>NJ</td>\n",
       "      <td>20.678246</td>\n",
       "      <td>21.076316</td>\n",
       "      <td>0.398070</td>\n",
       "    </tr>\n",
       "    <tr>\n",
       "      <th>1</th>\n",
       "      <td>PA</td>\n",
       "      <td>23.704545</td>\n",
       "      <td>21.825758</td>\n",
       "      <td>-1.878788</td>\n",
       "    </tr>\n",
       "    <tr>\n",
       "      <th>2</th>\n",
       "      <td>diffs</td>\n",
       "      <td>-3.026300</td>\n",
       "      <td>-0.749442</td>\n",
       "      <td>2.276858</td>\n",
       "    </tr>\n",
       "  </tbody>\n",
       "</table>\n",
       "</div>"
      ],
      "text/plain": [
       "   state     before      after     diffs\n",
       "0     NJ  20.678246  21.076316  0.398070\n",
       "1     PA  23.704545  21.825758 -1.878788\n",
       "2  diffs  -3.026300  -0.749442  2.276858"
      ]
     },
     "execution_count": 169,
     "metadata": {},
     "output_type": "execute_result"
    }
   ],
   "source": [
    "diff_table"
   ]
  },
  {
   "cell_type": "code",
   "execution_count": 171,
   "id": "9b683ba0-8cf3-4eeb-af76-467f470e4ce4",
   "metadata": {},
   "outputs": [
    {
     "data": {
      "text/html": [
       "<div>\n",
       "<style scoped>\n",
       "    .dataframe tbody tr th:only-of-type {\n",
       "        vertical-align: middle;\n",
       "    }\n",
       "\n",
       "    .dataframe tbody tr th {\n",
       "        vertical-align: top;\n",
       "    }\n",
       "\n",
       "    .dataframe thead th {\n",
       "        text-align: right;\n",
       "    }\n",
       "</style>\n",
       "<table border=\"1\" class=\"dataframe\">\n",
       "  <thead>\n",
       "    <tr style=\"text-align: right;\">\n",
       "      <th></th>\n",
       "      <th>state</th>\n",
       "      <th>before</th>\n",
       "      <th>after</th>\n",
       "      <th>diffs</th>\n",
       "    </tr>\n",
       "  </thead>\n",
       "  <tbody>\n",
       "    <tr>\n",
       "      <th>1</th>\n",
       "      <td>NJ</td>\n",
       "      <td>4.612982</td>\n",
       "      <td>5.082140</td>\n",
       "      <td>0.469158</td>\n",
       "    </tr>\n",
       "    <tr>\n",
       "      <th>0</th>\n",
       "      <td>PA</td>\n",
       "      <td>4.653636</td>\n",
       "      <td>4.618788</td>\n",
       "      <td>-0.034848</td>\n",
       "    </tr>\n",
       "  </tbody>\n",
       "</table>\n",
       "</div>"
      ],
      "text/plain": [
       "  state    before     after     diffs\n",
       "1    NJ  4.612982  5.082140  0.469158\n",
       "0    PA  4.653636  4.618788 -0.034848"
      ]
     },
     "execution_count": 171,
     "metadata": {},
     "output_type": "execute_result"
    }
   ],
   "source": [
    "wage_table = data.groupby(\"state\")[[\"wagest\", \"wagest2\"]].mean().reset_index()\n",
    "\n",
    "wage_table.columns = [\"state\", \"before\", \"after\"]\n",
    "wage_table = wage_table.sort_values(by=\"state\", ascending=False)\n",
    "wage_table[\"state\"] = wage_table[\"state\"].replace({1: \"NJ\", 0: \"PA\"})\n",
    "wage_table[\"diffs\"] = wage_table[\"after\"] - wage_table[\"before\"]\n",
    "wage_table"
   ]
  },
  {
   "cell_type": "markdown",
   "id": "142caf33-f634-45c7-bb05-d8df68eac63d",
   "metadata": {},
   "source": [
    "### Problem (b)"
   ]
  },
  {
   "cell_type": "code",
   "execution_count": 174,
   "id": "8c7b8ce8-1ad8-45ef-9b80-8cc52b49bc10",
   "metadata": {},
   "outputs": [],
   "source": [
    "data_before = data[['chain', 'own', 'state', 'fte']]\n",
    "data_before['post'] = 0\n",
    "data_after = data[['chain', 'own', 'state', 'fte2']].rename(columns={\"fte2\": \"fte\"})\n",
    "data_after['post'] = 1\n",
    "data_2 = pd.concat([data_before, data_after])\n",
    "\n",
    "data_2['DiD'] = data_2['post'] * data_2['state']\n",
    "data_2 = data_2.rename(columns={\"state\": \"treat\"})"
   ]
  },
  {
   "cell_type": "code",
   "execution_count": 176,
   "id": "265904bf-ff06-4149-8bb8-4c450dcfed4f",
   "metadata": {},
   "outputs": [
    {
     "name": "stdout",
     "output_type": "stream",
     "text": [
      "                            OLS Regression Results                            \n",
      "==============================================================================\n",
      "Dep. Variable:                    fte   R-squared:                       0.009\n",
      "Model:                            OLS   Adj. R-squared:                  0.004\n",
      "Method:                 Least Squares   F-statistic:                     1.995\n",
      "Date:                Thu, 05 Dec 2024   Prob (F-statistic):              0.113\n",
      "Time:                        14:08:35   Log-Likelihood:                -2561.8\n",
      "No. Observations:                 702   AIC:                             5132.\n",
      "Df Residuals:                     698   BIC:                             5150.\n",
      "Df Model:                           3                                         \n",
      "Covariance Type:            nonrobust                                         \n",
      "==============================================================================\n",
      "                 coef    std err          t      P>|t|      [0.025      0.975]\n",
      "------------------------------------------------------------------------------\n",
      "const         23.7045      1.148     20.640      0.000      21.450      25.959\n",
      "treat         -3.0263      1.275     -2.374      0.018      -5.529      -0.524\n",
      "post          -1.8788      1.624     -1.157      0.248      -5.068       1.310\n",
      "DiD            2.2769      1.802      1.263      0.207      -1.262       5.816\n",
      "==============================================================================\n",
      "Omnibus:                      217.305   Durbin-Watson:                   1.796\n",
      "Prob(Omnibus):                  0.000   Jarque-Bera (JB):              862.735\n",
      "Skew:                           1.394   Prob(JB):                    4.57e-188\n",
      "Kurtosis:                       7.660   Cond. No.                         11.5\n",
      "==============================================================================\n",
      "\n",
      "Notes:\n",
      "[1] Standard Errors assume that the covariance matrix of the errors is correctly specified.\n"
     ]
    }
   ],
   "source": [
    "X = data_2[['treat', 'post', 'DiD']]\n",
    "X = sm.add_constant(X)  \n",
    "\n",
    "model_did = sm.OLS(data_2['fte'], X).fit()\n",
    "\n",
    "print(model_did.summary())"
   ]
  },
  {
   "cell_type": "markdown",
   "id": "23c9373c-dfbd-4393-8d11-b46f7a4c2a76",
   "metadata": {},
   "source": [
    "### Problem (c)"
   ]
  },
  {
   "cell_type": "code",
   "execution_count": 179,
   "id": "c5aa8843-bb7a-4435-a3a1-4f7bd7b7aca4",
   "metadata": {},
   "outputs": [
    {
     "name": "stdout",
     "output_type": "stream",
     "text": [
      "                            OLS Regression Results                            \n",
      "==============================================================================\n",
      "Dep. Variable:                    fte   R-squared:                       0.218\n",
      "Model:                            OLS   Adj. R-squared:                  0.210\n",
      "Method:                 Least Squares   F-statistic:                     27.70\n",
      "Date:                Thu, 05 Dec 2024   Prob (F-statistic):           1.16e-33\n",
      "Time:                        14:08:38   Log-Likelihood:                -2478.3\n",
      "No. Observations:                 702   AIC:                             4973.\n",
      "Df Residuals:                     694   BIC:                             5009.\n",
      "Df Model:                           7                                         \n",
      "Covariance Type:            nonrobust                                         \n",
      "==============================================================================\n",
      "                 coef    std err          t      P>|t|      [0.025      0.975]\n",
      "------------------------------------------------------------------------------\n",
      "const         26.3896      1.090     24.220      0.000      24.250      28.529\n",
      "treat         -2.2788      1.138     -2.003      0.046      -4.512      -0.045\n",
      "post          -1.8788      1.446     -1.299      0.194      -4.718       0.961\n",
      "DiD            2.2769      1.605      1.419      0.156      -0.874       5.428\n",
      "own           -1.0409      0.740     -1.406      0.160      -2.494       0.412\n",
      "chain_2      -10.8691      0.874    -12.443      0.000     -12.584      -9.154\n",
      "chain_3       -1.7158      0.890     -1.928      0.054      -3.463       0.032\n",
      "chain_4       -1.6184      1.004     -1.611      0.108      -3.591       0.354\n",
      "==============================================================================\n",
      "Omnibus:                      294.887   Durbin-Watson:                   1.936\n",
      "Prob(Omnibus):                  0.000   Jarque-Bera (JB):             1957.433\n",
      "Skew:                           1.750   Prob(JB):                         0.00\n",
      "Kurtosis:                      10.394   Cond. No.                         12.2\n",
      "==============================================================================\n",
      "\n",
      "Notes:\n",
      "[1] Standard Errors assume that the covariance matrix of the errors is correctly specified.\n"
     ]
    }
   ],
   "source": [
    "data_3 = pd.get_dummies(data_2, columns=['chain'], drop_first=True)\n",
    "\n",
    "X = data_3[['treat', 'post', 'DiD', 'own','chain_2', 'chain_3', 'chain_4']].astype('float')\n",
    "X = sm.add_constant(X)  \n",
    "\n",
    "model_did = sm.OLS(data_3['fte'], X).fit()\n",
    "\n",
    "print(model_did.summary())"
   ]
  },
  {
   "cell_type": "markdown",
   "id": "bb3acb45-c6d9-4171-ac39-7e5be9948016",
   "metadata": {},
   "source": [
    "### Problem (d)"
   ]
  },
  {
   "cell_type": "code",
   "execution_count": 196,
   "id": "49ebb528-b550-489d-a3f2-3bac100b7e48",
   "metadata": {},
   "outputs": [
    {
     "name": "stdout",
     "output_type": "stream",
     "text": [
      "                            OLS Regression Results                            \n",
      "==============================================================================\n",
      "Dep. Variable:             fte_change   R-squared:                       0.022\n",
      "Model:                            OLS   Adj. R-squared:                  0.019\n",
      "Method:                 Least Squares   F-statistic:                     7.839\n",
      "Date:                Thu, 05 Dec 2024   Prob (F-statistic):            0.00540\n",
      "Time:                        14:11:14   Log-Likelihood:                -1254.9\n",
      "No. Observations:                 351   AIC:                             2514.\n",
      "Df Residuals:                     349   BIC:                             2522.\n",
      "Df Model:                           1                                         \n",
      "Covariance Type:            nonrobust                                         \n",
      "==============================================================================\n",
      "                 coef    std err          t      P>|t|      [0.025      0.975]\n",
      "------------------------------------------------------------------------------\n",
      "const         -1.4777      0.694     -2.130      0.034      -2.842      -0.113\n",
      "gap           17.0516      6.090      2.800      0.005       5.074      29.030\n",
      "==============================================================================\n",
      "Omnibus:                       39.096   Durbin-Watson:                   2.159\n",
      "Prob(Omnibus):                  0.000   Jarque-Bera (JB):              103.228\n",
      "Skew:                          -0.519   Prob(JB):                     3.84e-23\n",
      "Kurtosis:                       5.445   Cond. No.                         13.3\n",
      "==============================================================================\n",
      "\n",
      "Notes:\n",
      "[1] Standard Errors assume that the covariance matrix of the errors is correctly specified.\n"
     ]
    }
   ],
   "source": [
    "data['gap'] = ((5.05 - data['wagest']) / data['wagest']) * data['state'] * (data['wagest'] < 5.05)\n",
    "data['fte_change'] = data['fte2'] - data['fte']\n",
    "\n",
    "X = data[['gap']]\n",
    "X = sm.add_constant(X)  \n",
    "model_3 = sm.OLS(data['fte_change'] , X).fit()\n",
    "\n",
    "print(model_3.summary())"
   ]
  },
  {
   "cell_type": "code",
   "execution_count": 194,
   "id": "1dc6984a-53a4-4449-9232-31ccf96fccbb",
   "metadata": {},
   "outputs": [
    {
     "name": "stdout",
     "output_type": "stream",
     "text": [
      "The product is:  1.7829285215831572\n"
     ]
    }
   ],
   "source": [
    "product = data[data[\"state\"] == 1][\"gap\"].mean() * model_3.params[\"gap\"]\n",
    "print('The product is: ', product)"
   ]
  },
  {
   "cell_type": "markdown",
   "id": "522c2805-b5a1-4cd8-927e-ba507a2095ec",
   "metadata": {},
   "source": [
    "### Problem (e)"
   ]
  },
  {
   "cell_type": "code",
   "execution_count": 217,
   "id": "8ace3ec5-ab37-42ff-bceb-4229b6a9fe6c",
   "metadata": {},
   "outputs": [
    {
     "name": "stdout",
     "output_type": "stream",
     "text": [
      "                            OLS Regression Results                            \n",
      "==============================================================================\n",
      "Dep. Variable:             fte_change   R-squared:                       0.030\n",
      "Model:                            OLS   Adj. R-squared:                  0.013\n",
      "Method:                 Least Squares   F-statistic:                     1.797\n",
      "Date:                Thu, 05 Dec 2024   Prob (F-statistic):             0.0988\n",
      "Time:                        14:22:33   Log-Likelihood:                -1253.4\n",
      "No. Observations:                 351   AIC:                             2521.\n",
      "Df Residuals:                     344   BIC:                             2548.\n",
      "Df Model:                           6                                         \n",
      "Covariance Type:            nonrobust                                         \n",
      "==============================================================================\n",
      "                 coef    std err          t      P>|t|      [0.025      0.975]\n",
      "------------------------------------------------------------------------------\n",
      "const         -1.6635      1.211     -1.374      0.170      -4.045       0.718\n",
      "gap           14.0069      7.433      1.884      0.060      -0.613      28.627\n",
      "state          0.8294      1.420      0.584      0.560      -1.963       3.622\n",
      "own            0.5100      1.097      0.465      0.642      -1.648       2.668\n",
      "chain_2        0.3288      1.293      0.254      0.799      -2.214       2.872\n",
      "chain_3       -1.8083      1.325     -1.365      0.173      -4.414       0.797\n",
      "chain_4       -0.2377      1.511     -0.157      0.875      -3.209       2.734\n",
      "==============================================================================\n",
      "Omnibus:                       40.356   Durbin-Watson:                   2.161\n",
      "Prob(Omnibus):                  0.000   Jarque-Bera (JB):              107.283\n",
      "Skew:                          -0.535   Prob(JB):                     5.06e-24\n",
      "Kurtosis:                       5.488   Cond. No.                         22.8\n",
      "==============================================================================\n",
      "\n",
      "Notes:\n",
      "[1] Standard Errors assume that the covariance matrix of the errors is correctly specified.\n"
     ]
    }
   ],
   "source": [
    "data = pd.get_dummies(data, columns=['chain'], drop_first=True)\n",
    "\n",
    "X = data[['gap', 'state', 'own', 'chain_2', 'chain_3', 'chain_4']].astype('float')\n",
    "X = sm.add_constant(X)  \n",
    "\n",
    "model_4 = sm.OLS(data['fte_change'] , X).fit()\n",
    "print(model_4.summary())\n",
    "\n",
    "# latex_code = model_3.summary().as_latex()\n",
    "# print(latex_code)"
   ]
  },
  {
   "cell_type": "code",
   "execution_count": null,
   "id": "3560ec00-5def-4bd2-a03b-ccd1be1b0fe0",
   "metadata": {},
   "outputs": [],
   "source": []
  }
 ],
 "metadata": {
  "kernelspec": {
   "display_name": "Python 3 (ipykernel)",
   "language": "python",
   "name": "python3"
  },
  "language_info": {
   "codemirror_mode": {
    "name": "ipython",
    "version": 3
   },
   "file_extension": ".py",
   "mimetype": "text/x-python",
   "name": "python",
   "nbconvert_exporter": "python",
   "pygments_lexer": "ipython3",
   "version": "3.12.4"
  }
 },
 "nbformat": 4,
 "nbformat_minor": 5
}
