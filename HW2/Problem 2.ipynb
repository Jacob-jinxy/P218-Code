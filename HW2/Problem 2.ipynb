{
 "cells": [
  {
   "cell_type": "code",
   "execution_count": 79,
   "id": "38ede215-7422-4068-a5d1-f9e3a1f6dbfa",
   "metadata": {},
   "outputs": [],
   "source": [
    "import numpy as np\n",
    "import pandas as pd\n",
    "from scipy.stats import norm\n",
    "from scipy.stats import f\n"
   ]
  },
  {
   "cell_type": "code",
   "execution_count": 81,
   "id": "ad05f0db-b072-4167-966c-924884fcbb80",
   "metadata": {},
   "outputs": [],
   "source": [
    "data = pd.read_excel('wage.xlsx')\n",
    "data['wage'] = np.log(data['wage'])\n",
    "female_data = data[data['male'] == 0]['wage'].values\n",
    "male_data = data[data['male'] != 0]['wage'].values"
   ]
  },
  {
   "cell_type": "markdown",
   "id": "0c0bf838-d635-44ce-8359-023b9b9e89db",
   "metadata": {},
   "source": [
    "### Calculate the basic statistics"
   ]
  },
  {
   "cell_type": "code",
   "execution_count": 84,
   "id": "78f113be-9eeb-4516-907e-335df262911f",
   "metadata": {},
   "outputs": [],
   "source": [
    "female_var = np.var(female_data, ddof=1)\n",
    "male_var = np.var(male_data, ddof=1)\n",
    "\n",
    "female_mean = np.mean(female_data)\n",
    "male_mean = np.mean(male_data)\n",
    "\n",
    "female_n = len(female_data)\n",
    "male_n = len(male_data)"
   ]
  },
  {
   "cell_type": "markdown",
   "id": "a0ee1d7c-d31a-4fc2-a7c1-9ef5527c483f",
   "metadata": {},
   "source": [
    "### Roubust test"
   ]
  },
  {
   "cell_type": "code",
   "execution_count": 87,
   "id": "07e14f86-2d0d-4366-b24d-87cc6ab431c2",
   "metadata": {},
   "outputs": [
    {
     "name": "stdout",
     "output_type": "stream",
     "text": [
      "The estimated kappa is: 7.3781207090510135\n",
      "The robust statistics is: 0.9353004940278131\n",
      "The robust p-value is: 0.17481673039385381\n"
     ]
    }
   ],
   "source": [
    "part_1 = (np.sum((female_data - female_mean)** 4) + np.sum((male_data - male_mean)** 4)) * (female_n + male_n)\n",
    "part_2 = (np.sum((female_data - female_mean)** 2) + np.sum((male_data - male_mean)** 2)) ** 2\n",
    "kappa = part_1/part_2\n",
    "\n",
    "\n",
    "T = np.sqrt(female_n * male_n / (male_n + female_n)) * (np.log(female_var) - np.log(male_var))\n",
    "statistics = T/np.sqrt(kappa-1)\n",
    "p_value = 1 - norm.cdf(statistics)\n",
    "\n",
    "print('The estimated kappa is:', kappa)\n",
    "print('The robust statistics is:', statistics)\n",
    "print('The robust p-value is:', p_value)\n"
   ]
  },
  {
   "cell_type": "markdown",
   "id": "578ac154-9af4-4c4a-8130-ecad9412cb5b",
   "metadata": {},
   "source": [
    "\n",
    "### F test"
   ]
  },
  {
   "cell_type": "code",
   "execution_count": 90,
   "id": "9888ab95-6c5c-4886-a248-9d4994262754",
   "metadata": {},
   "outputs": [
    {
     "name": "stdout",
     "output_type": "stream",
     "text": [
      "The F statistics is: 1.0858707722186227\n",
      "The F critical value is: 1.0844642019945046\n"
     ]
    }
   ],
   "source": [
    "F_statistics = female_var/male_var\n",
    "F_critical_value = f.ppf(1 - 0.05, female_n-1, male_n-1)\n",
    "\n",
    "print('The F statistics is:', F_statistics)\n",
    "print('The F critical value is:', F_critical_value)"
   ]
  },
  {
   "cell_type": "code",
   "execution_count": null,
   "id": "e6b3200b-d968-4825-bf55-6c176f8fc6a8",
   "metadata": {},
   "outputs": [],
   "source": []
  }
 ],
 "metadata": {
  "kernelspec": {
   "display_name": "Python 3 (ipykernel)",
   "language": "python",
   "name": "python3"
  },
  "language_info": {
   "codemirror_mode": {
    "name": "ipython",
    "version": 3
   },
   "file_extension": ".py",
   "mimetype": "text/x-python",
   "name": "python",
   "nbconvert_exporter": "python",
   "pygments_lexer": "ipython3",
   "version": "3.12.4"
  }
 },
 "nbformat": 4,
 "nbformat_minor": 5
}
