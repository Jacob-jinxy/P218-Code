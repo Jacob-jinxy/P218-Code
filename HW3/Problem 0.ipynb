{
 "cells": [
  {
   "cell_type": "code",
   "execution_count": 37,
   "id": "8e32d016-699c-408f-9559-b7a3b3b3e41d",
   "metadata": {},
   "outputs": [],
   "source": [
    "import pandas as pd\n",
    "import statsmodels.api as sm\n",
    "\n",
    "from scipy.stats import norm\n",
    "\n",
    "import numpy as np\n",
    "\n"
   ]
  },
  {
   "cell_type": "markdown",
   "id": "6f9254e9-c076-4c8f-b61b-d2a56eab22b6",
   "metadata": {},
   "source": [
    "### Problem (a)"
   ]
  },
  {
   "cell_type": "code",
   "execution_count": 40,
   "id": "68d23e54-94fb-4665-b437-01825f037d13",
   "metadata": {},
   "outputs": [
    {
     "name": "stdout",
     "output_type": "stream",
     "text": [
      "Optimization terminated successfully.\n",
      "         Current function value: 0.455180\n",
      "         Iterations 6\n",
      "                          Probit Regression Results                           \n",
      "==============================================================================\n",
      "Dep. Variable:               Survived   No. Observations:                  714\n",
      "Model:                         Probit   Df Residuals:                      710\n",
      "Method:                           MLE   Df Model:                            3\n",
      "Date:                Wed, 20 Nov 2024   Pseudo R-squ.:                  0.3261\n",
      "Time:                        14:13:55   Log-Likelihood:                -325.00\n",
      "converged:                       True   LL-Null:                       -482.26\n",
      "Covariance Type:            nonrobust   LLR p-value:                 7.167e-68\n",
      "==============================================================================\n",
      "                 coef    std err          z      P>|z|      [0.025      0.975]\n",
      "------------------------------------------------------------------------------\n",
      "const          2.8693      0.270     10.646      0.000       2.341       3.398\n",
      "Pclass        -0.7206      0.076     -9.503      0.000      -0.869      -0.572\n",
      "Sex           -1.4838      0.117    -12.726      0.000      -1.712      -1.255\n",
      "Age           -0.0203      0.004     -4.751      0.000      -0.029      -0.012\n",
      "==============================================================================\n"
     ]
    }
   ],
   "source": [
    "\n",
    "data = pd.read_csv('TitanicData.csv')\n",
    "\n",
    "data = data.dropna(subset=['Survived', 'Pclass', 'Sex', 'Age'])\n",
    "\n",
    "\n",
    "data['Sex'] = data['Sex'].apply(lambda x: 1 if x == 'male' else 0)\n",
    "\n",
    "X = data[['Pclass', 'Sex', 'Age']]\n",
    "X = sm.add_constant(X)  # Adds the intercept term\n",
    "y = data['Survived']  # Dependent variable\n",
    "\n",
    "probit_model = sm.Probit(y, X)\n",
    "probit_results = probit_model.fit()\n",
    "\n",
    "print(probit_results.summary())"
   ]
  },
  {
   "cell_type": "markdown",
   "id": "9cb1542e-ba57-4aed-a1b2-975c4506ee50",
   "metadata": {},
   "source": [
    "### Problem (b)"
   ]
  },
  {
   "cell_type": "code",
   "execution_count": 43,
   "id": "3d4d7211-2a27-43b5-b82e-d1685190e3f4",
   "metadata": {},
   "outputs": [
    {
     "data": {
      "text/plain": [
       "0.029196061705704688"
      ]
     },
     "execution_count": 43,
     "metadata": {},
     "output_type": "execute_result"
    }
   ],
   "source": [
    "data_1 = pd.DataFrame({'const': 1, 'Pclass': [3], 'Sex': [1], 'Age': [55]})\n",
    "survival_probability_1 = probit_results.predict(data_1)[0]\n",
    "survival_probability_1"
   ]
  },
  {
   "cell_type": "markdown",
   "id": "93c00ce5-6dc4-406c-a557-1cd8054479c0",
   "metadata": {},
   "source": [
    "### Problem (c)"
   ]
  },
  {
   "cell_type": "code",
   "execution_count": 46,
   "id": "f8ab53d2-371b-4691-b9fe-c631299099bc",
   "metadata": {},
   "outputs": [
    {
     "data": {
      "text/plain": [
       "0.32581295553857403"
      ]
     },
     "execution_count": 46,
     "metadata": {},
     "output_type": "execute_result"
    }
   ],
   "source": [
    "data_2 = pd.DataFrame({'const': 1, 'Pclass': [1], 'Sex': [1], 'Age': [55]})\n",
    "survival_probability_2 = probit_results.predict(data_2)[0]\n",
    "survival_probability_2"
   ]
  },
  {
   "cell_type": "code",
   "execution_count": 48,
   "id": "f2010f3b-6139-421b-b3ad-e9c090653aa1",
   "metadata": {},
   "outputs": [
    {
     "data": {
      "text/plain": [
       "0.2966168938328693"
      ]
     },
     "execution_count": 48,
     "metadata": {},
     "output_type": "execute_result"
    }
   ],
   "source": [
    "survival_probability_2 - survival_probability_1"
   ]
  },
  {
   "cell_type": "markdown",
   "id": "26d068e7-ff09-4224-ae2d-da6db5b1c6d1",
   "metadata": {},
   "source": [
    "### Problem (d)"
   ]
  },
  {
   "cell_type": "code",
   "execution_count": 51,
   "id": "b1d89380-5eff-4c17-b104-e8fec1d99ddc",
   "metadata": {},
   "outputs": [
    {
     "data": {
      "text/plain": [
       "array([[ 7.26473604e-02, -1.75270537e-02, -9.53719737e-03,\n",
       "        -8.46824303e-04],\n",
       "       [-1.75270537e-02,  5.74983534e-03,  7.17604974e-04,\n",
       "         1.48195670e-04],\n",
       "       [-9.53719737e-03,  7.17604974e-04,  1.35959126e-02,\n",
       "        -2.00388110e-05],\n",
       "       [-8.46824303e-04,  1.48195670e-04, -2.00388110e-05,\n",
       "         1.82517194e-05]])"
      ]
     },
     "execution_count": 51,
     "metadata": {},
     "output_type": "execute_result"
    }
   ],
   "source": [
    "cov_matrix"
   ]
  },
  {
   "cell_type": "code",
   "execution_count": 53,
   "id": "fdf5d4a9-1b99-4663-90f1-e7869cc2471c",
   "metadata": {},
   "outputs": [],
   "source": [
    "beta = probit_results.params.values\n",
    "\n",
    "z_class_3 = beta[0] + beta[1] * 3 + beta[2] * 1 + beta[3] * 55\n",
    "z_class_1 = beta[0] + beta[1] * 1 + beta[2] * 1 + beta[3] * 55\n",
    "\n",
    "# PDF values at z for class 3 and class 1 (φ(z))\n",
    "pdf_class_3 = norm.pdf(z_class_3)\n",
    "pdf_class_1 = norm.pdf(z_class_1)\n",
    "\n",
    "\n",
    "cov_matrix = probit_results.cov_params().values\n",
    "\n",
    "grad_class_3 = np.array([1, 3, 1, 55]) * pdf_class_3\n",
    "grad_class_1 = np.array([1, 1, 1, 55]) * pdf_class_1\n",
    "\n",
    "var_delta_p = (grad_class_1- grad_class_3) @ cov_matrix @(grad_class_1- grad_class_3).T\n",
    "\n"
   ]
  },
  {
   "cell_type": "code",
   "execution_count": 57,
   "id": "8789d378-dc3a-4f70-9930-6e7a5a564ca8",
   "metadata": {},
   "outputs": [
    {
     "data": {
      "text/plain": [
       "0.04078085646019446"
      ]
     },
     "execution_count": 57,
     "metadata": {},
     "output_type": "execute_result"
    }
   ],
   "source": [
    "std_error_delta_p = np.sqrt(var_delta_p)\n",
    "std_error_delta_p"
   ]
  },
  {
   "cell_type": "code",
   "execution_count": null,
   "id": "6bc73d05-9519-40b1-a012-907ac2b4d366",
   "metadata": {},
   "outputs": [],
   "source": []
  }
 ],
 "metadata": {
  "kernelspec": {
   "display_name": "Python 3 (ipykernel)",
   "language": "python",
   "name": "python3"
  },
  "language_info": {
   "codemirror_mode": {
    "name": "ipython",
    "version": 3
   },
   "file_extension": ".py",
   "mimetype": "text/x-python",
   "name": "python",
   "nbconvert_exporter": "python",
   "pygments_lexer": "ipython3",
   "version": "3.12.4"
  }
 },
 "nbformat": 4,
 "nbformat_minor": 5
}
